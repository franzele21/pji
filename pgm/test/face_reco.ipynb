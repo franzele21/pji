{
 "cells": [
  {
   "cell_type": "code",
   "execution_count": 1,
   "metadata": {},
   "outputs": [],
   "source": [
    "from ultralytics import YOLO\n",
    "import cv2\n",
    "import math\n",
    "from tqdm import tqdm\n",
    "import os\n",
    "import moviepy.editor as mpe"
   ]
  },
  {
   "cell_type": "code",
   "execution_count": 2,
   "metadata": {},
   "outputs": [],
   "source": [
    "def retrieve_audio(video):\n",
    "    video_clip = mpe.VideoFileClip(video)\n",
    "\n",
    "    # Extract the audio from the video clip\n",
    "    audio_clip = video_clip.audio\n",
    "    video_clip.close()\n",
    "\n",
    "    return audio_clip"
   ]
  },
  {
   "cell_type": "code",
   "execution_count": 3,
   "metadata": {},
   "outputs": [],
   "source": [
    "def combine_audio(video, audio, outname, fps):\n",
    "    final_clip = video.set_audio(audio)\n",
    "    # os.remove(outname)\n",
    "    print(type(final_clip))\n",
    "    final_clip.write_videofile(f\"f{outname}\", fps=fps)"
   ]
  },
  {
   "cell_type": "code",
   "execution_count": 4,
   "metadata": {},
   "outputs": [],
   "source": [
    "video_path = \"crowded_space.mp4\"\n",
    "output_path = \"video.mp4\""
   ]
  },
  {
   "cell_type": "code",
   "execution_count": 5,
   "metadata": {},
   "outputs": [],
   "source": [
    "model = YOLO('yolov8n-face.pt')"
   ]
  },
  {
   "cell_type": "code",
   "execution_count": 6,
   "metadata": {},
   "outputs": [],
   "source": [
    "# audio = retrieve_audio(video_path)"
   ]
  },
  {
   "cell_type": "code",
   "execution_count": 7,
   "metadata": {},
   "outputs": [],
   "source": [
    "vidcap = cv2.VideoCapture(video_path)\n",
    "success, img = vidcap.read()"
   ]
  },
  {
   "cell_type": "code",
   "execution_count": 8,
   "metadata": {},
   "outputs": [],
   "source": [
    "frame_number = int(vidcap.get(cv2.CAP_PROP_FRAME_COUNT))\n",
    "fps = vidcap.get(cv2.CAP_PROP_FPS)\n",
    "frame_size = (int(vidcap.get(cv2.CAP_PROP_FRAME_WIDTH)), \n",
    "              int(vidcap.get(cv2.CAP_PROP_FRAME_HEIGHT)))"
   ]
  },
  {
   "cell_type": "code",
   "execution_count": 9,
   "metadata": {},
   "outputs": [],
   "source": [
    "fourcc = cv2.VideoWriter_fourcc(*'mp4v')\n",
    "video=cv2.VideoWriter(filename=output_path, \n",
    "                      fourcc=fourcc, \n",
    "                      fps=fps, \n",
    "                      frameSize=frame_size)"
   ]
  },
  {
   "cell_type": "code",
   "execution_count": 10,
   "metadata": {},
   "outputs": [],
   "source": [
    "def blur_box(frame, box, min_conf=0.2):\n",
    "    if math.ceil((box.conf[0]*100))/100 > min_conf:\n",
    "        x1, y1, x2, y2 = box.xyxy[0]\n",
    "        x1, y1, x2, y2 = int(x1), int(y1), int(x2), int(y2)\n",
    "        h, w = y2-y1, x2-x1\n",
    "\n",
    "        ROI = frame[y1:y1+h, x1:x1+w]\n",
    "        blur = cv2.GaussianBlur(ROI, (51,51), 0) \n",
    "        frame[y1:y1+h, x1:x1+w] = blur\n",
    "    return frame\n"
   ]
  },
  {
   "cell_type": "code",
   "execution_count": 11,
   "metadata": {},
   "outputs": [
    {
     "name": "stderr",
     "output_type": "stream",
     "text": [
      "100%|██████████| 460/460 [00:39<00:00, 11.70it/s]\n"
     ]
    }
   ],
   "source": [
    "for i in tqdm(range(frame_number)):\n",
    "    results = model(img, stream=True, verbose=False)\n",
    "    for r in results:\n",
    "        boxes = r.boxes\n",
    "        for box in boxes:\n",
    "            img = blur_box(img, box)\n",
    "\n",
    "    video.write(img)\n",
    "    success, img = vidcap.read()\n",
    "\n",
    "vidcap.release()\n",
    "video.release()"
   ]
  },
  {
   "cell_type": "code",
   "execution_count": 12,
   "metadata": {},
   "outputs": [
    {
     "ename": "NameError",
     "evalue": "name 'audio' is not defined",
     "output_type": "error",
     "traceback": [
      "\u001b[0;31m---------------------------------------------------------------------------\u001b[0m",
      "\u001b[0;31mNameError\u001b[0m                                 Traceback (most recent call last)",
      "Input \u001b[0;32mIn [12]\u001b[0m, in \u001b[0;36m<cell line: 1>\u001b[0;34m()\u001b[0m\n\u001b[0;32m----> 1\u001b[0m \u001b[38;5;28mtype\u001b[39m(\u001b[43maudio\u001b[49m)\n",
      "\u001b[0;31mNameError\u001b[0m: name 'audio' is not defined"
     ]
    }
   ],
   "source": [
    "type(audio)"
   ]
  },
  {
   "cell_type": "code",
   "execution_count": null,
   "metadata": {},
   "outputs": [],
   "source": [
    "from moviepy.editor import *\n",
    "\n",
    "# Define the paths of the audio and video files\n",
    "video_path = output_path\n",
    "\n",
    "# Create instances of VideoFileClip and AudioFileClip\n",
    "video_clip = VideoFileClip(video_path)\n",
    "\n",
    "# Merge the audio and video clips\n",
    "video_clip_with_audio = video_clip.set_audio(audio)\n",
    "\n",
    "# Write the merged video file to a new file\n",
    "# video_clip_with_audio.write_videofile(\"path/to/output/file.mp4\")"
   ]
  },
  {
   "cell_type": "code",
   "execution_count": null,
   "metadata": {},
   "outputs": [],
   "source": []
  }
 ],
 "metadata": {
  "kernelspec": {
   "display_name": "Python 3",
   "language": "python",
   "name": "python3"
  },
  "language_info": {
   "codemirror_mode": {
    "name": "ipython",
    "version": 3
   },
   "file_extension": ".py",
   "mimetype": "text/x-python",
   "name": "python",
   "nbconvert_exporter": "python",
   "pygments_lexer": "ipython3",
   "version": "3.10.12"
  }
 },
 "nbformat": 4,
 "nbformat_minor": 2
}
